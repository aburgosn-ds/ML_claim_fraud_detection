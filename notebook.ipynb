{
 "cells": [
  {
   "cell_type": "markdown",
   "id": "ee83eafc",
   "metadata": {},
   "source": [
    "# Vehicle Insurance Fraud Detection"
   ]
  },
  {
   "cell_type": "markdown",
   "id": "e47b6075",
   "metadata": {},
   "source": [
    "# 1. Introduction"
   ]
  },
  {
   "cell_type": "markdown",
   "id": "f8c4ac12",
   "metadata": {},
   "source": [
    "\n",
    "Source: https://www.kaggle.com/datasets/shivamb/vehicle-claim-fraud-detection\n",
    "\n",
    "Vehicle insurance fraud involves conspiring to make false or exaggerated claims involving property damage or personal injuries following an accident. Some common examples include staged accidents where fraudsters deliberately “arrange” for accidents to occur; the use of phantom passengers where people who were not even at the scene of the accident claim to have suffered grievous injury, and make false personal injury claims where personal injuries are grossly exaggerated.\n",
    "\n",
    "**About this dataset**\n",
    "\n",
    "This dataset contains vehicle dataset - attribute, model, accident details, etc along with policy details - policy type, tenure etc. The target is to detect if a claim application is fraudulent or not - FraudFound_P.\n",
    "\n",
    "**Data Description**: Made with the help of ChatGPT.\n",
    "| Variable                | Descripción                                                                 | Tipo de dato |\n",
    "|-------------------------|------------------------------------------------------------------------------|--------------|\n",
    "| Month                   | Mes en que ocurrió el accidente                                             | Categórico       |\n",
    "| WeekOfMonth             | Semana del mes en que ocurrió el accidente                                  | Numérico        |\n",
    "| DayOfWeek               | Día de la semana en que ocurrió el accidente                                | Categórico       |\n",
    "| Make                    | Marca del vehículo                                                          | Categórico       |\n",
    "| AccidentArea            | Zona del accidente (urbana o rural)                                         | Categórico       |\n",
    "| DayOfWeekClaimed        | Día de la semana en que se hizo la reclamación                              | Categórico       |\n",
    "| MonthClaimed            | Mes en que se realizó la reclamación                                        | Categórico       |\n",
    "| WeekOfMonthClaimed      | Semana del mes en que se hizo la reclamación                                | Numérico        |\n",
    "| Sex                     | Sexo del asegurado                                                          | Categórico       |\n",
    "| MaritalStatus           | Estado civil del asegurado                                                  | Categórico       |\n",
    "| Age                     | Edad del asegurado                                                          | Numérico        |\n",
    "| Fault                   | Determina si la culpa fue del asegurado o de un tercero                     | Categórico       |\n",
    "| PolicyType              | Tipo de póliza contratada                                                   | Categórico       |\n",
    "| VehicleCategory         | Categoría del vehículo (por ejemplo: sedán, SUV, etc.)                      | Categórico       |\n",
    "| VehiclePrice            | Rango de precio del vehículo                                                | Categórico       |\n",
    "| FraudFound_P            | Variable objetivo: 1 si hubo fraude, 0 si no                                 | Numérico        |\n",
    "| PolicyNumber            | Número de póliza                                                            | Numérico        |\n",
    "| RepNumber               | Número de representante que procesó la reclamación                          | Numérico        |\n",
    "| Deductible              | Deducible acordado en la póliza (monto que el asegurado debe pagar)         | Numérico        |\n",
    "| DriverRating            | Calificación del conductor (1 a 4, donde 1 es peor y 4 mejor)                | Numérico        |\n",
    "| Days_Policy_Accident    | Tiempo desde la contratación hasta el accidente                             | Categórico       |\n",
    "| Days_Policy_Claim       | Tiempo desde la contratación hasta la reclamación                           | Categórico       |\n",
    "| PastNumberOfClaims      | Número de reclamaciones pasadas                                             | Categórico       |\n",
    "| AgeOfVehicle            | Antigüedad del vehículo                                                     | Categórico       |\n",
    "| AgeOfPolicyHolder       | Rango de edad del titular de la póliza                                      | Categórico       |\n",
    "| PoliceReportFiled       | Indica si se presentó un informe policial                                   | Categórico       |\n",
    "| WitnessPresent          | Indica si hubo testigos presentes                                           | Categórico       |\n",
    "| AgentType               | Tipo de agente de seguros (independiente o corporativo)                     | Categórico       |\n",
    "| NumberOfSuppliments     | Número de suplementos (documentos adicionales presentados)                  | Categórico       |\n",
    "| AddressChange_Claim     | Cambio de dirección cercano a la fecha de la reclamación                    | Categórico       |\n",
    "| NumberOfCars            | Número de autos cubiertos por la póliza                                     | Categórico       |\n",
    "| Year                    | Año en que se registró el accidente o reclamo                               | Numérico        |\n",
    "| BasePolicy              | Tipo base de la póliza (por ejemplo: Liability, Collision, etc.)            | Categórico       |\n"
   ]
  },
  {
   "cell_type": "markdown",
   "id": "5e1b91c7",
   "metadata": {},
   "source": [
    "## 1.1. **Import Modules**"
   ]
  },
  {
   "cell_type": "code",
   "execution_count": 1,
   "id": "5faefb1d",
   "metadata": {},
   "outputs": [
    {
     "data": {
      "text/plain": [
       "<module 'utils' from 'e:\\\\Alexander\\\\Data Science Projects\\\\ML_claim_fraud_detection\\\\utils.py'>"
      ]
     },
     "execution_count": 1,
     "metadata": {},
     "output_type": "execute_result"
    }
   ],
   "source": [
    "import pandas as pd\n",
    "import matplotlib.pyplot as plt\n",
    "import seaborn as sns\n",
    "\n",
    "import importlib\n",
    "import utils\n",
    "\n",
    "sns.set_style('darkgrid')\n",
    "importlib.reload(utils)"
   ]
  },
  {
   "cell_type": "markdown",
   "id": "7cc7e3e7",
   "metadata": {},
   "source": [
    "## 1.2. **Import Data**"
   ]
  },
  {
   "cell_type": "code",
   "execution_count": 2,
   "id": "14e749dd",
   "metadata": {},
   "outputs": [
    {
     "data": {
      "text/html": [
       "<div>\n",
       "<style scoped>\n",
       "    .dataframe tbody tr th:only-of-type {\n",
       "        vertical-align: middle;\n",
       "    }\n",
       "\n",
       "    .dataframe tbody tr th {\n",
       "        vertical-align: top;\n",
       "    }\n",
       "\n",
       "    .dataframe thead th {\n",
       "        text-align: right;\n",
       "    }\n",
       "</style>\n",
       "<table border=\"1\" class=\"dataframe\">\n",
       "  <thead>\n",
       "    <tr style=\"text-align: right;\">\n",
       "      <th></th>\n",
       "      <th>Month</th>\n",
       "      <th>WeekOfMonth</th>\n",
       "      <th>DayOfWeek</th>\n",
       "      <th>Make</th>\n",
       "      <th>AccidentArea</th>\n",
       "      <th>DayOfWeekClaimed</th>\n",
       "      <th>MonthClaimed</th>\n",
       "      <th>WeekOfMonthClaimed</th>\n",
       "      <th>Sex</th>\n",
       "      <th>MaritalStatus</th>\n",
       "      <th>...</th>\n",
       "      <th>AgeOfVehicle</th>\n",
       "      <th>AgeOfPolicyHolder</th>\n",
       "      <th>PoliceReportFiled</th>\n",
       "      <th>WitnessPresent</th>\n",
       "      <th>AgentType</th>\n",
       "      <th>NumberOfSuppliments</th>\n",
       "      <th>AddressChange_Claim</th>\n",
       "      <th>NumberOfCars</th>\n",
       "      <th>Year</th>\n",
       "      <th>BasePolicy</th>\n",
       "    </tr>\n",
       "  </thead>\n",
       "  <tbody>\n",
       "    <tr>\n",
       "      <th>0</th>\n",
       "      <td>Dec</td>\n",
       "      <td>5</td>\n",
       "      <td>Wednesday</td>\n",
       "      <td>Honda</td>\n",
       "      <td>Urban</td>\n",
       "      <td>Tuesday</td>\n",
       "      <td>Jan</td>\n",
       "      <td>1</td>\n",
       "      <td>Female</td>\n",
       "      <td>Single</td>\n",
       "      <td>...</td>\n",
       "      <td>3 years</td>\n",
       "      <td>26 to 30</td>\n",
       "      <td>No</td>\n",
       "      <td>No</td>\n",
       "      <td>External</td>\n",
       "      <td>none</td>\n",
       "      <td>1 year</td>\n",
       "      <td>3 to 4</td>\n",
       "      <td>1994</td>\n",
       "      <td>Liability</td>\n",
       "    </tr>\n",
       "    <tr>\n",
       "      <th>1</th>\n",
       "      <td>Jan</td>\n",
       "      <td>3</td>\n",
       "      <td>Wednesday</td>\n",
       "      <td>Honda</td>\n",
       "      <td>Urban</td>\n",
       "      <td>Monday</td>\n",
       "      <td>Jan</td>\n",
       "      <td>4</td>\n",
       "      <td>Male</td>\n",
       "      <td>Single</td>\n",
       "      <td>...</td>\n",
       "      <td>6 years</td>\n",
       "      <td>31 to 35</td>\n",
       "      <td>Yes</td>\n",
       "      <td>No</td>\n",
       "      <td>External</td>\n",
       "      <td>none</td>\n",
       "      <td>no change</td>\n",
       "      <td>1 vehicle</td>\n",
       "      <td>1994</td>\n",
       "      <td>Collision</td>\n",
       "    </tr>\n",
       "    <tr>\n",
       "      <th>2</th>\n",
       "      <td>Oct</td>\n",
       "      <td>5</td>\n",
       "      <td>Friday</td>\n",
       "      <td>Honda</td>\n",
       "      <td>Urban</td>\n",
       "      <td>Thursday</td>\n",
       "      <td>Nov</td>\n",
       "      <td>2</td>\n",
       "      <td>Male</td>\n",
       "      <td>Married</td>\n",
       "      <td>...</td>\n",
       "      <td>7 years</td>\n",
       "      <td>41 to 50</td>\n",
       "      <td>No</td>\n",
       "      <td>No</td>\n",
       "      <td>External</td>\n",
       "      <td>none</td>\n",
       "      <td>no change</td>\n",
       "      <td>1 vehicle</td>\n",
       "      <td>1994</td>\n",
       "      <td>Collision</td>\n",
       "    </tr>\n",
       "    <tr>\n",
       "      <th>3</th>\n",
       "      <td>Jun</td>\n",
       "      <td>2</td>\n",
       "      <td>Saturday</td>\n",
       "      <td>Toyota</td>\n",
       "      <td>Rural</td>\n",
       "      <td>Friday</td>\n",
       "      <td>Jul</td>\n",
       "      <td>1</td>\n",
       "      <td>Male</td>\n",
       "      <td>Married</td>\n",
       "      <td>...</td>\n",
       "      <td>more than 7</td>\n",
       "      <td>51 to 65</td>\n",
       "      <td>Yes</td>\n",
       "      <td>No</td>\n",
       "      <td>External</td>\n",
       "      <td>more than 5</td>\n",
       "      <td>no change</td>\n",
       "      <td>1 vehicle</td>\n",
       "      <td>1994</td>\n",
       "      <td>Liability</td>\n",
       "    </tr>\n",
       "    <tr>\n",
       "      <th>4</th>\n",
       "      <td>Jan</td>\n",
       "      <td>5</td>\n",
       "      <td>Monday</td>\n",
       "      <td>Honda</td>\n",
       "      <td>Urban</td>\n",
       "      <td>Tuesday</td>\n",
       "      <td>Feb</td>\n",
       "      <td>2</td>\n",
       "      <td>Female</td>\n",
       "      <td>Single</td>\n",
       "      <td>...</td>\n",
       "      <td>5 years</td>\n",
       "      <td>31 to 35</td>\n",
       "      <td>No</td>\n",
       "      <td>No</td>\n",
       "      <td>External</td>\n",
       "      <td>none</td>\n",
       "      <td>no change</td>\n",
       "      <td>1 vehicle</td>\n",
       "      <td>1994</td>\n",
       "      <td>Collision</td>\n",
       "    </tr>\n",
       "  </tbody>\n",
       "</table>\n",
       "<p>5 rows × 33 columns</p>\n",
       "</div>"
      ],
      "text/plain": [
       "  Month  WeekOfMonth  DayOfWeek    Make AccidentArea DayOfWeekClaimed  \\\n",
       "0   Dec            5  Wednesday   Honda        Urban          Tuesday   \n",
       "1   Jan            3  Wednesday   Honda        Urban           Monday   \n",
       "2   Oct            5     Friday   Honda        Urban         Thursday   \n",
       "3   Jun            2   Saturday  Toyota        Rural           Friday   \n",
       "4   Jan            5     Monday   Honda        Urban          Tuesday   \n",
       "\n",
       "  MonthClaimed  WeekOfMonthClaimed     Sex MaritalStatus  ...  AgeOfVehicle  \\\n",
       "0          Jan                   1  Female        Single  ...       3 years   \n",
       "1          Jan                   4    Male        Single  ...       6 years   \n",
       "2          Nov                   2    Male       Married  ...       7 years   \n",
       "3          Jul                   1    Male       Married  ...   more than 7   \n",
       "4          Feb                   2  Female        Single  ...       5 years   \n",
       "\n",
       "  AgeOfPolicyHolder PoliceReportFiled WitnessPresent AgentType  \\\n",
       "0          26 to 30                No             No  External   \n",
       "1          31 to 35               Yes             No  External   \n",
       "2          41 to 50                No             No  External   \n",
       "3          51 to 65               Yes             No  External   \n",
       "4          31 to 35                No             No  External   \n",
       "\n",
       "   NumberOfSuppliments  AddressChange_Claim  NumberOfCars  Year  BasePolicy  \n",
       "0                 none               1 year        3 to 4  1994   Liability  \n",
       "1                 none            no change     1 vehicle  1994   Collision  \n",
       "2                 none            no change     1 vehicle  1994   Collision  \n",
       "3          more than 5            no change     1 vehicle  1994   Liability  \n",
       "4                 none            no change     1 vehicle  1994   Collision  \n",
       "\n",
       "[5 rows x 33 columns]"
      ]
     },
     "execution_count": 2,
     "metadata": {},
     "output_type": "execute_result"
    }
   ],
   "source": [
    "df = pd.read_csv(\"data/fraud_oracle.csv\")\n",
    "df.head()"
   ]
  },
  {
   "cell_type": "markdown",
   "id": "5cd76b3f",
   "metadata": {},
   "source": [
    "## 1.3 Describe Data"
   ]
  },
  {
   "cell_type": "code",
   "execution_count": 3,
   "id": "bbe71f43",
   "metadata": {},
   "outputs": [
    {
     "name": "stdout",
     "output_type": "stream",
     "text": [
      "<class 'pandas.core.frame.DataFrame'>\n",
      "RangeIndex: 15420 entries, 0 to 15419\n",
      "Data columns (total 33 columns):\n",
      " #   Column                Non-Null Count  Dtype \n",
      "---  ------                --------------  ----- \n",
      " 0   Month                 15420 non-null  object\n",
      " 1   WeekOfMonth           15420 non-null  int64 \n",
      " 2   DayOfWeek             15420 non-null  object\n",
      " 3   Make                  15420 non-null  object\n",
      " 4   AccidentArea          15420 non-null  object\n",
      " 5   DayOfWeekClaimed      15420 non-null  object\n",
      " 6   MonthClaimed          15420 non-null  object\n",
      " 7   WeekOfMonthClaimed    15420 non-null  int64 \n",
      " 8   Sex                   15420 non-null  object\n",
      " 9   MaritalStatus         15420 non-null  object\n",
      " 10  Age                   15420 non-null  int64 \n",
      " 11  Fault                 15420 non-null  object\n",
      " 12  PolicyType            15420 non-null  object\n",
      " 13  VehicleCategory       15420 non-null  object\n",
      " 14  VehiclePrice          15420 non-null  object\n",
      " 15  FraudFound_P          15420 non-null  int64 \n",
      " 16  PolicyNumber          15420 non-null  int64 \n",
      " 17  RepNumber             15420 non-null  int64 \n",
      " 18  Deductible            15420 non-null  int64 \n",
      " 19  DriverRating          15420 non-null  int64 \n",
      " 20  Days_Policy_Accident  15420 non-null  object\n",
      " 21  Days_Policy_Claim     15420 non-null  object\n",
      " 22  PastNumberOfClaims    15420 non-null  object\n",
      " 23  AgeOfVehicle          15420 non-null  object\n",
      " 24  AgeOfPolicyHolder     15420 non-null  object\n",
      " 25  PoliceReportFiled     15420 non-null  object\n",
      " 26  WitnessPresent        15420 non-null  object\n",
      " 27  AgentType             15420 non-null  object\n",
      " 28  NumberOfSuppliments   15420 non-null  object\n",
      " 29  AddressChange_Claim   15420 non-null  object\n",
      " 30  NumberOfCars          15420 non-null  object\n",
      " 31  Year                  15420 non-null  int64 \n",
      " 32  BasePolicy            15420 non-null  object\n",
      "dtypes: int64(9), object(24)\n",
      "memory usage: 3.9+ MB\n"
     ]
    }
   ],
   "source": [
    "df.info()"
   ]
  },
  {
   "cell_type": "markdown",
   "id": "c4a4cb09",
   "metadata": {},
   "source": [
    "Since *PolicyNumber* is a client identificator, we drop it."
   ]
  },
  {
   "cell_type": "code",
   "execution_count": 4,
   "id": "7c0d2167",
   "metadata": {},
   "outputs": [],
   "source": [
    "df.drop(columns=['PolicyNumber'], inplace=True, errors='ignore')"
   ]
  },
  {
   "cell_type": "markdown",
   "id": "7a9e13c9",
   "metadata": {},
   "source": [
    "*WeekOfMonth*, *WeekOfMonthClaimed* and *RepNumber* features require a change in data type to object, since they don't have a mathematical meaning, only nominal."
   ]
  },
  {
   "cell_type": "code",
   "execution_count": 5,
   "id": "8cd563e9",
   "metadata": {},
   "outputs": [],
   "source": [
    "df.WeekOfMonth = df.WeekOfMonth.astype(dtype='object')\n",
    "df.WeekOfMonthClaimed = df.WeekOfMonthClaimed.astype(dtype='object')\n",
    "df.RepNumber = df.RepNumber.astype(dtype='object')"
   ]
  },
  {
   "cell_type": "code",
   "execution_count": 6,
   "id": "9b95a56e",
   "metadata": {},
   "outputs": [
    {
     "name": "stdout",
     "output_type": "stream",
     "text": [
      "Number of observations: 15420\n",
      "Number of variables: 32\n"
     ]
    }
   ],
   "source": [
    "print(\"Number of observations:\", df.shape[0])\n",
    "print(\"Number of variables:\", df.shape[1])"
   ]
  },
  {
   "cell_type": "code",
   "execution_count": 7,
   "id": "dacec282",
   "metadata": {},
   "outputs": [],
   "source": [
    "# Separate features and target as DataFrames\n",
    "X_df = df.drop(columns=['FraudFound_P'])\n",
    "y_df = df['FraudFound_P']"
   ]
  },
  {
   "cell_type": "code",
   "execution_count": 8,
   "id": "6d4a5a7b",
   "metadata": {},
   "outputs": [
    {
     "name": "stdout",
     "output_type": "stream",
     "text": [
      "There are 4 numerical (discrete) features:\n",
      "\t ['Age', 'Deductible', 'DriverRating', 'Year']\n",
      "There are 27 categorical features:\n",
      "\t ['Month', 'WeekOfMonth', 'DayOfWeek', 'Make', 'AccidentArea', 'DayOfWeekClaimed', 'MonthClaimed', 'WeekOfMonthClaimed', 'Sex', 'MaritalStatus', 'Fault', 'PolicyType', 'VehicleCategory', 'VehiclePrice', 'RepNumber', 'Days_Policy_Accident', 'Days_Policy_Claim', 'PastNumberOfClaims', 'AgeOfVehicle', 'AgeOfPolicyHolder', 'PoliceReportFiled', 'WitnessPresent', 'AgentType', 'NumberOfSuppliments', 'AddressChange_Claim', 'NumberOfCars', 'BasePolicy']\n",
      "Target is numerical:\n",
      "\t FraudFround_P\n"
     ]
    }
   ],
   "source": [
    "numerical_features = X_df.select_dtypes(exclude='object').columns.tolist()\n",
    "print(f\"There are {len(numerical_features)} numerical (discrete) features:\\n\\t {numerical_features}\")\n",
    "\n",
    "categorical_features = df.select_dtypes(include='object').columns.tolist()\n",
    "print(f\"There are {len(categorical_features)} categorical features:\\n\\t {categorical_features}\")\n",
    "\n",
    "target_column = \"FraudFround_P\"\n",
    "print(f\"Target is numerical:\\n\\t {target_column}\")"
   ]
  },
  {
   "cell_type": "markdown",
   "id": "e6a26a8c",
   "metadata": {},
   "source": [
    "**Insight**\n",
    "\n",
    "- Any null values wasn't found by pandas. Further inspection over categorical features is required to check if some categories means null values or related."
   ]
  },
  {
   "cell_type": "markdown",
   "id": "75319bd4",
   "metadata": {},
   "source": [
    "# 2. EDA"
   ]
  },
  {
   "cell_type": "markdown",
   "id": "ce3dc1ff",
   "metadata": {},
   "source": [
    "## 2.1. Numerical Features"
   ]
  },
  {
   "cell_type": "code",
   "execution_count": 9,
   "id": "d5a0edf3",
   "metadata": {},
   "outputs": [
    {
     "name": "stdout",
     "output_type": "stream",
     "text": [
      "There are 4 numerical (discrete) features:\n",
      "\t ['Age', 'Deductible', 'DriverRating', 'Year']\n"
     ]
    },
    {
     "data": {
      "text/html": [
       "<div>\n",
       "<style scoped>\n",
       "    .dataframe tbody tr th:only-of-type {\n",
       "        vertical-align: middle;\n",
       "    }\n",
       "\n",
       "    .dataframe tbody tr th {\n",
       "        vertical-align: top;\n",
       "    }\n",
       "\n",
       "    .dataframe thead th {\n",
       "        text-align: right;\n",
       "    }\n",
       "</style>\n",
       "<table border=\"1\" class=\"dataframe\">\n",
       "  <thead>\n",
       "    <tr style=\"text-align: right;\">\n",
       "      <th></th>\n",
       "      <th>Age</th>\n",
       "      <th>Deductible</th>\n",
       "      <th>DriverRating</th>\n",
       "      <th>Year</th>\n",
       "    </tr>\n",
       "  </thead>\n",
       "  <tbody>\n",
       "    <tr>\n",
       "      <th>count</th>\n",
       "      <td>15420.000000</td>\n",
       "      <td>15420.000000</td>\n",
       "      <td>15420.000000</td>\n",
       "      <td>15420.000000</td>\n",
       "    </tr>\n",
       "    <tr>\n",
       "      <th>mean</th>\n",
       "      <td>39.855707</td>\n",
       "      <td>407.704280</td>\n",
       "      <td>2.487808</td>\n",
       "      <td>1994.866472</td>\n",
       "    </tr>\n",
       "    <tr>\n",
       "      <th>std</th>\n",
       "      <td>13.492377</td>\n",
       "      <td>43.950998</td>\n",
       "      <td>1.119453</td>\n",
       "      <td>0.803313</td>\n",
       "    </tr>\n",
       "    <tr>\n",
       "      <th>min</th>\n",
       "      <td>0.000000</td>\n",
       "      <td>300.000000</td>\n",
       "      <td>1.000000</td>\n",
       "      <td>1994.000000</td>\n",
       "    </tr>\n",
       "    <tr>\n",
       "      <th>25%</th>\n",
       "      <td>31.000000</td>\n",
       "      <td>400.000000</td>\n",
       "      <td>1.000000</td>\n",
       "      <td>1994.000000</td>\n",
       "    </tr>\n",
       "    <tr>\n",
       "      <th>50%</th>\n",
       "      <td>38.000000</td>\n",
       "      <td>400.000000</td>\n",
       "      <td>2.000000</td>\n",
       "      <td>1995.000000</td>\n",
       "    </tr>\n",
       "    <tr>\n",
       "      <th>75%</th>\n",
       "      <td>48.000000</td>\n",
       "      <td>400.000000</td>\n",
       "      <td>3.000000</td>\n",
       "      <td>1996.000000</td>\n",
       "    </tr>\n",
       "    <tr>\n",
       "      <th>max</th>\n",
       "      <td>80.000000</td>\n",
       "      <td>700.000000</td>\n",
       "      <td>4.000000</td>\n",
       "      <td>1996.000000</td>\n",
       "    </tr>\n",
       "  </tbody>\n",
       "</table>\n",
       "</div>"
      ],
      "text/plain": [
       "                Age    Deductible  DriverRating          Year\n",
       "count  15420.000000  15420.000000  15420.000000  15420.000000\n",
       "mean      39.855707    407.704280      2.487808   1994.866472\n",
       "std       13.492377     43.950998      1.119453      0.803313\n",
       "min        0.000000    300.000000      1.000000   1994.000000\n",
       "25%       31.000000    400.000000      1.000000   1994.000000\n",
       "50%       38.000000    400.000000      2.000000   1995.000000\n",
       "75%       48.000000    400.000000      3.000000   1996.000000\n",
       "max       80.000000    700.000000      4.000000   1996.000000"
      ]
     },
     "execution_count": 9,
     "metadata": {},
     "output_type": "execute_result"
    }
   ],
   "source": [
    "numerical_features = X_df.select_dtypes(exclude='object').columns.tolist()\n",
    "print(f\"There are {len(numerical_features)} numerical (discrete) features:\\n\\t {numerical_features}\")\n",
    "\n",
    "\n",
    "X_df.describe()"
   ]
  },
  {
   "cell_type": "markdown",
   "id": "fb32e219",
   "metadata": {},
   "source": [
    "**Insights**\n",
    "\n",
    "- The *Age* feature of the insured custumer has a minimun of 0, and it seem not o be a possible value, so we requrie to deal with the rows with this age."
   ]
  },
  {
   "cell_type": "markdown",
   "id": "40bbdfb2",
   "metadata": {},
   "source": [
    "### Age"
   ]
  },
  {
   "cell_type": "code",
   "execution_count": 10,
   "id": "c54d4e3c",
   "metadata": {},
   "outputs": [
    {
     "data": {
      "text/html": [
       "<div>\n",
       "<style scoped>\n",
       "    .dataframe tbody tr th:only-of-type {\n",
       "        vertical-align: middle;\n",
       "    }\n",
       "\n",
       "    .dataframe tbody tr th {\n",
       "        vertical-align: top;\n",
       "    }\n",
       "\n",
       "    .dataframe thead th {\n",
       "        text-align: right;\n",
       "    }\n",
       "</style>\n",
       "<table border=\"1\" class=\"dataframe\">\n",
       "  <thead>\n",
       "    <tr style=\"text-align: right;\">\n",
       "      <th></th>\n",
       "      <th>counts</th>\n",
       "      <th>proportions</th>\n",
       "      <th>percentage</th>\n",
       "    </tr>\n",
       "    <tr>\n",
       "      <th>Age</th>\n",
       "      <th></th>\n",
       "      <th></th>\n",
       "      <th></th>\n",
       "    </tr>\n",
       "  </thead>\n",
       "  <tbody>\n",
       "    <tr>\n",
       "      <th>0</th>\n",
       "      <td>320</td>\n",
       "      <td>0.021</td>\n",
       "      <td>2.075</td>\n",
       "    </tr>\n",
       "    <tr>\n",
       "      <th>16</th>\n",
       "      <td>9</td>\n",
       "      <td>0.001</td>\n",
       "      <td>0.058</td>\n",
       "    </tr>\n",
       "    <tr>\n",
       "      <th>17</th>\n",
       "      <td>6</td>\n",
       "      <td>0.000</td>\n",
       "      <td>0.039</td>\n",
       "    </tr>\n",
       "    <tr>\n",
       "      <th>18</th>\n",
       "      <td>48</td>\n",
       "      <td>0.003</td>\n",
       "      <td>0.311</td>\n",
       "    </tr>\n",
       "    <tr>\n",
       "      <th>19</th>\n",
       "      <td>32</td>\n",
       "      <td>0.002</td>\n",
       "      <td>0.208</td>\n",
       "    </tr>\n",
       "    <tr>\n",
       "      <th>...</th>\n",
       "      <td>...</td>\n",
       "      <td>...</td>\n",
       "      <td>...</td>\n",
       "    </tr>\n",
       "    <tr>\n",
       "      <th>76</th>\n",
       "      <td>42</td>\n",
       "      <td>0.003</td>\n",
       "      <td>0.272</td>\n",
       "    </tr>\n",
       "    <tr>\n",
       "      <th>77</th>\n",
       "      <td>29</td>\n",
       "      <td>0.002</td>\n",
       "      <td>0.188</td>\n",
       "    </tr>\n",
       "    <tr>\n",
       "      <th>78</th>\n",
       "      <td>35</td>\n",
       "      <td>0.002</td>\n",
       "      <td>0.227</td>\n",
       "    </tr>\n",
       "    <tr>\n",
       "      <th>79</th>\n",
       "      <td>20</td>\n",
       "      <td>0.001</td>\n",
       "      <td>0.130</td>\n",
       "    </tr>\n",
       "    <tr>\n",
       "      <th>80</th>\n",
       "      <td>32</td>\n",
       "      <td>0.002</td>\n",
       "      <td>0.208</td>\n",
       "    </tr>\n",
       "  </tbody>\n",
       "</table>\n",
       "<p>66 rows × 3 columns</p>\n",
       "</div>"
      ],
      "text/plain": [
       "     counts  proportions  percentage\n",
       "Age                                 \n",
       "0       320        0.021       2.075\n",
       "16        9        0.001       0.058\n",
       "17        6        0.000       0.039\n",
       "18       48        0.003       0.311\n",
       "19       32        0.002       0.208\n",
       "..      ...          ...         ...\n",
       "76       42        0.003       0.272\n",
       "77       29        0.002       0.188\n",
       "78       35        0.002       0.227\n",
       "79       20        0.001       0.130\n",
       "80       32        0.002       0.208\n",
       "\n",
       "[66 rows x 3 columns]"
      ]
     },
     "execution_count": 10,
     "metadata": {},
     "output_type": "execute_result"
    }
   ],
   "source": [
    "utils.show_value_counts(X_df, 'Age')"
   ]
  },
  {
   "cell_type": "code",
   "execution_count": 11,
   "id": "4e387c57",
   "metadata": {},
   "outputs": [
    {
     "data": {
      "image/png": "[encoded data removed]",
      "text/plain": [
       "<Figure size 1200x600 with 1 Axes>"
      ]
     },
     "metadata": {},
     "output_type": "display_data"
    }
   ],
   "source": [
    "fig, ax = plt.subplots(1, 1, figsize=(12,6))\n",
    "\n",
    "sns.histplot(data=X_df, x='Age', stat='count', kde=True, ax=ax)\n",
    "# sns.boxplot(data=X_df, x='Age', ax=ax[1])\n",
    "plt.title(\"Histogram of Age\")\n",
    "plt.show()"
   ]
  },
  {
   "cell_type": "markdown",
   "id": "45a68ed8",
   "metadata": {},
   "source": [
    "- 2% of insurance customers have 0 *Age*, suggesting that those observation where typed incorrectly or indicating that there are no age data for those customers (or they were lost), since to have a vehicle insurance you needed to be 16 years old or older (by the time this data was collected FIND DOCUMENTATION).\n",
    "- Also, that 2% is relevant compared to other ages and intervals, as it can be seen in the histogram, therefore we are going to treat age = 0 by imputing values using other features that seem to be relevant to define *Age* such as *Sex* and *MaritalStatus*."
   ]
  },
  {
   "cell_type": "markdown",
   "id": "ee82a818",
   "metadata": {},
   "source": [
    "#### Treatment of *Age* = 0 by Imputing \n",
    "\n",
    "We are going to consider imputation using two features: Sex and MaritalStatus. Taking the median of the agrupation."
   ]
  },
  {
   "cell_type": "code",
   "execution_count": 12,
   "id": "06754901",
   "metadata": {},
   "outputs": [
    {
     "data": {
      "text/plain": [
       "Text(0.5, 1.0, 'Histogram of Age respect to Marital Status')"
      ]
     },
     "execution_count": 12,
     "metadata": {},
     "output_type": "execute_result"
    },
    {
     "data": {
      "image/png": "[encoded data removed]",
      "text/plain": [
       "<Figure size 1200x500 with 2 Axes>"
      ]
     },
     "metadata": {},
     "output_type": "display_data"
    }
   ],
   "source": [
    "fig, ax  = plt.subplots(1,2, figsize=(12,5))\n",
    "\n",
    "sns.histplot(data=X_df, x='Age', hue='Sex', ax=ax[0], kde=True)\n",
    "ax[0].set_title(\"Histogram of Age respect to Sex\")\n",
    "\n",
    "sns.histplot(data=X_df, x='Age', hue='MaritalStatus', ax=ax[1], kde=True)\n",
    "ax[1].set_title(\"Histogram of Age respect to Marital Status\")\n"
   ]
  },
  {
   "cell_type": "markdown",
   "id": "9eb831ff",
   "metadata": {},
   "source": [
    "Only single male customers have 0 age in the dataset, so we are going to replace the median of the grouped data for Male and Single categories."
   ]
  },
  {
   "cell_type": "code",
   "execution_count": 13,
   "id": "19f8d19c",
   "metadata": {},
   "outputs": [
    {
     "data": {
      "text/html": [
       "<div>\n",
       "<style scoped>\n",
       "    .dataframe tbody tr th:only-of-type {\n",
       "        vertical-align: middle;\n",
       "    }\n",
       "\n",
       "    .dataframe tbody tr th {\n",
       "        vertical-align: top;\n",
       "    }\n",
       "\n",
       "    .dataframe thead th {\n",
       "        text-align: right;\n",
       "    }\n",
       "</style>\n",
       "<table border=\"1\" class=\"dataframe\">\n",
       "  <thead>\n",
       "    <tr style=\"text-align: right;\">\n",
       "      <th></th>\n",
       "      <th>counts</th>\n",
       "      <th>proportions</th>\n",
       "      <th>percentage</th>\n",
       "    </tr>\n",
       "    <tr>\n",
       "      <th>Age</th>\n",
       "      <th></th>\n",
       "      <th></th>\n",
       "      <th></th>\n",
       "    </tr>\n",
       "  </thead>\n",
       "  <tbody>\n",
       "    <tr>\n",
       "      <th>16</th>\n",
       "      <td>9</td>\n",
       "      <td>0.001</td>\n",
       "      <td>0.058</td>\n",
       "    </tr>\n",
       "    <tr>\n",
       "      <th>17</th>\n",
       "      <td>6</td>\n",
       "      <td>0.000</td>\n",
       "      <td>0.039</td>\n",
       "    </tr>\n",
       "    <tr>\n",
       "      <th>18</th>\n",
       "      <td>48</td>\n",
       "      <td>0.003</td>\n",
       "      <td>0.311</td>\n",
       "    </tr>\n",
       "    <tr>\n",
       "      <th>19</th>\n",
       "      <td>32</td>\n",
       "      <td>0.002</td>\n",
       "      <td>0.208</td>\n",
       "    </tr>\n",
       "    <tr>\n",
       "      <th>20</th>\n",
       "      <td>28</td>\n",
       "      <td>0.002</td>\n",
       "      <td>0.182</td>\n",
       "    </tr>\n",
       "    <tr>\n",
       "      <th>...</th>\n",
       "      <td>...</td>\n",
       "      <td>...</td>\n",
       "      <td>...</td>\n",
       "    </tr>\n",
       "    <tr>\n",
       "      <th>76</th>\n",
       "      <td>42</td>\n",
       "      <td>0.003</td>\n",
       "      <td>0.272</td>\n",
       "    </tr>\n",
       "    <tr>\n",
       "      <th>77</th>\n",
       "      <td>29</td>\n",
       "      <td>0.002</td>\n",
       "      <td>0.188</td>\n",
       "    </tr>\n",
       "    <tr>\n",
       "      <th>78</th>\n",
       "      <td>35</td>\n",
       "      <td>0.002</td>\n",
       "      <td>0.227</td>\n",
       "    </tr>\n",
       "    <tr>\n",
       "      <th>79</th>\n",
       "      <td>20</td>\n",
       "      <td>0.001</td>\n",
       "      <td>0.130</td>\n",
       "    </tr>\n",
       "    <tr>\n",
       "      <th>80</th>\n",
       "      <td>32</td>\n",
       "      <td>0.002</td>\n",
       "      <td>0.208</td>\n",
       "    </tr>\n",
       "  </tbody>\n",
       "</table>\n",
       "<p>65 rows × 3 columns</p>\n",
       "</div>"
      ],
      "text/plain": [
       "     counts  proportions  percentage\n",
       "Age                                 \n",
       "16        9        0.001       0.058\n",
       "17        6        0.000       0.039\n",
       "18       48        0.003       0.311\n",
       "19       32        0.002       0.208\n",
       "20       28        0.002       0.182\n",
       "..      ...          ...         ...\n",
       "76       42        0.003       0.272\n",
       "77       29        0.002       0.188\n",
       "78       35        0.002       0.227\n",
       "79       20        0.001       0.130\n",
       "80       32        0.002       0.208\n",
       "\n",
       "[65 rows x 3 columns]"
      ]
     },
     "execution_count": 13,
     "metadata": {},
     "output_type": "execute_result"
    }
   ],
   "source": [
    "median_age_to_replace = X_df.groupby(['Sex', 'MaritalStatus'])['Age'].median()['Male']['Single']\n",
    "X_df.Age = X_df.Age.replace(0, median_age_to_replace)\n",
    "utils.show_value_counts(X_df, 'Age')"
   ]
  },
  {
   "cell_type": "code",
   "execution_count": 14,
   "id": "5085cf95",
   "metadata": {},
   "outputs": [
    {
     "data": {
      "image/png": "[encoded data removed]",
      "text/plain": [
       "<Figure size 1000x600 with 1 Axes>"
      ]
     },
     "metadata": {},
     "output_type": "display_data"
    }
   ],
   "source": [
    "fig, ax = plt.subplots(1, 1, figsize=(10,6))\n",
    "\n",
    "sns.histplot(data=X_df, x='Age', stat='count', kde=True, ax=ax)\n",
    "# sns.boxplot(data=X_df, x='Age', ax=ax[1])\n",
    "plt.title(\"Histogram of Age\")\n",
    "plt.show()"
   ]
  },
  {
   "cell_type": "code",
   "execution_count": 15,
   "id": "749f9de6",
   "metadata": {},
   "outputs": [
    {
     "data": {
      "text/plain": [
       "<module 'utils' from 'e:\\\\Alexander\\\\Data Science Projects\\\\ML_claim_fraud_detection\\\\utils.py'>"
      ]
     },
     "execution_count": 15,
     "metadata": {},
     "output_type": "execute_result"
    }
   ],
   "source": [
    "import importlib\n",
    "importlib.reload(utils)"
   ]
  },
  {
   "cell_type": "code",
   "execution_count": 16,
   "id": "e8ee68f2",
   "metadata": {},
   "outputs": [
    {
     "name": "stdout",
     "output_type": "stream",
     "text": [
      "---- Central Tendency Statistics ----\n",
      "\tMean: 40.47827496757458\n",
      "\tMedian: 38.0\n",
      "\tMode: 30\n",
      "---- No Central Statistics ----\n",
      "\tMin: 16\n",
      "\t1st Cuartile: 31.0\n",
      "\t2nd Cuartile: 38.0\n",
      "\t3rd Cuartile: 48.0\n",
      "\tMax: 80\n",
      "---- Variability Statistics ----\n",
      "\tRange: 64\n",
      "\tVariance: 150.70586433063994\n",
      "\tStandard Deviation: 12.276231682834922\n",
      "\tVariance Coefficient: 30.00%\n",
      "\tIQR: 17.0\n",
      "---- Shape Statistics ----\n",
      "\tSkewness: 0.7493849973540873\n",
      "\tKurtosis (Fisher): 0.077148222867506\n",
      "\tKurtosis (Pearson): 3.077148222867506\n"
     ]
    }
   ],
   "source": [
    "utils.univariate_statistics(X_df.Age)"
   ]
  },
  {
   "cell_type": "markdown",
   "id": "21c857a1",
   "metadata": {},
   "source": [
    "**Insights**\n",
    "\n",
    "- The *Age* variable has a positive skewness = 0.75, and it can also be seen in the histogram.\n",
    "\n",
    "- From the histogram and KDE we can observe:\n",
    "    - Most insured customers have ages between 25 to 50 years.\n",
    "    - The distribution has a quite long tail along to higher ages, the proportion remains approximately constant from 65 to 80 years.\n",
    "    - Since this distribution is not symmetric, the appropriate central value is taken to be the median = 38 age.\n",
    "    - The variability of the ages is relatively high with a coefficient of variation of 30% respecto to the mean."
   ]
  },
  {
   "cell_type": "markdown",
   "id": "0a0e9eca",
   "metadata": {},
   "source": [
    "### Deductible\n",
    "\n",
    "Deducible acordado en la póliza: monto que el asegurado debe pagar para que se procese el reclamo."
   ]
  },
  {
   "cell_type": "code",
   "execution_count": 17,
   "id": "f7626d66",
   "metadata": {},
   "outputs": [
    {
     "data": {
      "text/html": [
       "<div>\n",
       "<style scoped>\n",
       "    .dataframe tbody tr th:only-of-type {\n",
       "        vertical-align: middle;\n",
       "    }\n",
       "\n",
       "    .dataframe tbody tr th {\n",
       "        vertical-align: top;\n",
       "    }\n",
       "\n",
       "    .dataframe thead th {\n",
       "        text-align: right;\n",
       "    }\n",
       "</style>\n",
       "<table border=\"1\" class=\"dataframe\">\n",
       "  <thead>\n",
       "    <tr style=\"text-align: right;\">\n",
       "      <th></th>\n",
       "      <th>counts</th>\n",
       "      <th>proportions</th>\n",
       "      <th>percentage</th>\n",
       "    </tr>\n",
       "    <tr>\n",
       "      <th>Deductible</th>\n",
       "      <th></th>\n",
       "      <th></th>\n",
       "      <th></th>\n",
       "    </tr>\n",
       "  </thead>\n",
       "  <tbody>\n",
       "    <tr>\n",
       "      <th>400</th>\n",
       "      <td>14838</td>\n",
       "      <td>0.962</td>\n",
       "      <td>96.226</td>\n",
       "    </tr>\n",
       "    <tr>\n",
       "      <th>700</th>\n",
       "      <td>311</td>\n",
       "      <td>0.020</td>\n",
       "      <td>2.017</td>\n",
       "    </tr>\n",
       "    <tr>\n",
       "      <th>500</th>\n",
       "      <td>263</td>\n",
       "      <td>0.017</td>\n",
       "      <td>1.706</td>\n",
       "    </tr>\n",
       "    <tr>\n",
       "      <th>300</th>\n",
       "      <td>8</td>\n",
       "      <td>0.001</td>\n",
       "      <td>0.052</td>\n",
       "    </tr>\n",
       "  </tbody>\n",
       "</table>\n",
       "</div>"
      ],
      "text/plain": [
       "            counts  proportions  percentage\n",
       "Deductible                                 \n",
       "400          14838        0.962      96.226\n",
       "700            311        0.020       2.017\n",
       "500            263        0.017       1.706\n",
       "300              8        0.001       0.052"
      ]
     },
     "execution_count": 17,
     "metadata": {},
     "output_type": "execute_result"
    }
   ],
   "source": [
    "utils.show_value_counts(X_df, 'Deductible', sort_index=False, ascending=False)"
   ]
  },
  {
   "cell_type": "code",
   "execution_count": 18,
   "id": "d1c57e1b",
   "metadata": {},
   "outputs": [
    {
     "data": {
      "image/png": "[encoded data removed]",
      "text/plain": [
       "<Figure size 1200x600 with 1 Axes>"
      ]
     },
     "metadata": {},
     "output_type": "display_data"
    }
   ],
   "source": [
    "fig, ax = plt.subplots(1, 1, figsize=(12,6))\n",
    "\n",
    "sns.histplot(data=X_df, x='Deductible', stat='count', kde=True, ax=ax)\n",
    "# sns.boxplot(data=X_df, x='Age', ax=ax[1])\n",
    "plt.title(\"Histogram of Deductible\")\n",
    "plt.show()"
   ]
  },
  {
   "cell_type": "markdown",
   "id": "c7b7906c",
   "metadata": {},
   "source": [
    "**Insights**\n",
    "\n",
    "- Almost all deductible paid by customers is 400$, with a 96% of data.\n",
    "- Very few customers paid 300$, with a 0.05 % of them."
   ]
  },
  {
   "cell_type": "markdown",
   "id": "fee81e82",
   "metadata": {},
   "source": [
    "### DriverRating\n",
    "\n",
    "Calificación del conductor.\n"
   ]
  },
  {
   "cell_type": "code",
   "execution_count": 19,
   "id": "18a2857a",
   "metadata": {},
   "outputs": [
    {
     "data": {
      "text/html": [
       "<div>\n",
       "<style scoped>\n",
       "    .dataframe tbody tr th:only-of-type {\n",
       "        vertical-align: middle;\n",
       "    }\n",
       "\n",
       "    .dataframe tbody tr th {\n",
       "        vertical-align: top;\n",
       "    }\n",
       "\n",
       "    .dataframe thead th {\n",
       "        text-align: right;\n",
       "    }\n",
       "</style>\n",
       "<table border=\"1\" class=\"dataframe\">\n",
       "  <thead>\n",
       "    <tr style=\"text-align: right;\">\n",
       "      <th></th>\n",
       "      <th>counts</th>\n",
       "      <th>proportions</th>\n",
       "      <th>percentage</th>\n",
       "    </tr>\n",
       "    <tr>\n",
       "      <th>DriverRating</th>\n",
       "      <th></th>\n",
       "      <th></th>\n",
       "      <th></th>\n",
       "    </tr>\n",
       "  </thead>\n",
       "  <tbody>\n",
       "    <tr>\n",
       "      <th>1</th>\n",
       "      <td>3944</td>\n",
       "      <td>0.256</td>\n",
       "      <td>25.577</td>\n",
       "    </tr>\n",
       "    <tr>\n",
       "      <th>3</th>\n",
       "      <td>3884</td>\n",
       "      <td>0.252</td>\n",
       "      <td>25.188</td>\n",
       "    </tr>\n",
       "    <tr>\n",
       "      <th>2</th>\n",
       "      <td>3801</td>\n",
       "      <td>0.246</td>\n",
       "      <td>24.650</td>\n",
       "    </tr>\n",
       "    <tr>\n",
       "      <th>4</th>\n",
       "      <td>3791</td>\n",
       "      <td>0.246</td>\n",
       "      <td>24.585</td>\n",
       "    </tr>\n",
       "  </tbody>\n",
       "</table>\n",
       "</div>"
      ],
      "text/plain": [
       "              counts  proportions  percentage\n",
       "DriverRating                                 \n",
       "1               3944        0.256      25.577\n",
       "3               3884        0.252      25.188\n",
       "2               3801        0.246      24.650\n",
       "4               3791        0.246      24.585"
      ]
     },
     "execution_count": 19,
     "metadata": {},
     "output_type": "execute_result"
    }
   ],
   "source": [
    "utils.show_value_counts(X_df, 'DriverRating', sort_index=False, ascending=False)"
   ]
  },
  {
   "cell_type": "code",
   "execution_count": 20,
   "id": "687908e7",
   "metadata": {},
   "outputs": [
    {
     "data": {
      "image/png": "[encoded data removed]",
      "text/plain": [
       "<Figure size 1200x600 with 1 Axes>"
      ]
     },
     "metadata": {},
     "output_type": "display_data"
    }
   ],
   "source": [
    "fig, ax = plt.subplots(1, 1, figsize=(12,6))\n",
    "\n",
    "sns.histplot(data=X_df, x='DriverRating', stat='count', ax=ax)\n",
    "# sns.boxplot(data=X_df, x='Age', ax=ax[1])\n",
    "plt.title(\"Histogram of DriverRating\")\n",
    "plt.show()"
   ]
  },
  {
   "cell_type": "markdown",
   "id": "ca403b60",
   "metadata": {},
   "source": [
    "**Insights**\n",
    "\n",
    "- All ratings are approximately equally distributed across all customers, showing no sign of pattern for a specific rating."
   ]
  },
  {
   "cell_type": "markdown",
   "id": "1b5db467",
   "metadata": {},
   "source": [
    "### Year\n",
    "\n",
    "Año en que se registró el reclamo o accidente."
   ]
  },
  {
   "cell_type": "code",
   "execution_count": 21,
   "id": "0abe140e",
   "metadata": {},
   "outputs": [
    {
     "data": {
      "text/html": [
       "<div>\n",
       "<style scoped>\n",
       "    .dataframe tbody tr th:only-of-type {\n",
       "        vertical-align: middle;\n",
       "    }\n",
       "\n",
       "    .dataframe tbody tr th {\n",
       "        vertical-align: top;\n",
       "    }\n",
       "\n",
       "    .dataframe thead th {\n",
       "        text-align: right;\n",
       "    }\n",
       "</style>\n",
       "<table border=\"1\" class=\"dataframe\">\n",
       "  <thead>\n",
       "    <tr style=\"text-align: right;\">\n",
       "      <th></th>\n",
       "      <th>counts</th>\n",
       "      <th>proportions</th>\n",
       "      <th>percentage</th>\n",
       "    </tr>\n",
       "    <tr>\n",
       "      <th>Year</th>\n",
       "      <th></th>\n",
       "      <th></th>\n",
       "      <th></th>\n",
       "    </tr>\n",
       "  </thead>\n",
       "  <tbody>\n",
       "    <tr>\n",
       "      <th>1996</th>\n",
       "      <td>4083</td>\n",
       "      <td>0.265</td>\n",
       "      <td>26.479</td>\n",
       "    </tr>\n",
       "    <tr>\n",
       "      <th>1995</th>\n",
       "      <td>5195</td>\n",
       "      <td>0.337</td>\n",
       "      <td>33.690</td>\n",
       "    </tr>\n",
       "    <tr>\n",
       "      <th>1994</th>\n",
       "      <td>6142</td>\n",
       "      <td>0.398</td>\n",
       "      <td>39.831</td>\n",
       "    </tr>\n",
       "  </tbody>\n",
       "</table>\n",
       "</div>"
      ],
      "text/plain": [
       "      counts  proportions  percentage\n",
       "Year                                 \n",
       "1996    4083        0.265      26.479\n",
       "1995    5195        0.337      33.690\n",
       "1994    6142        0.398      39.831"
      ]
     },
     "execution_count": 21,
     "metadata": {},
     "output_type": "execute_result"
    }
   ],
   "source": [
    "utils.show_value_counts(X_df, column='Year', sort_index=False)"
   ]
  },
  {
   "cell_type": "code",
   "execution_count": 22,
   "id": "1a027ef7",
   "metadata": {},
   "outputs": [
    {
     "data": {
      "image/png": "[encoded data removed]",
      "text/plain": [
       "<Figure size 1200x600 with 1 Axes>"
      ]
     },
     "metadata": {},
     "output_type": "display_data"
    }
   ],
   "source": [
    "fig, ax = plt.subplots(1, 1, figsize=(12,6))\n",
    "\n",
    "sns.histplot(data=X_df, x='Year', stat='count', ax=ax)\n",
    "# sns.boxplot(data=X_df, x='Age', ax=ax[1])\n",
    "plt.title(\"Histogram of Year\")\n",
    "plt.show()"
   ]
  },
  {
   "cell_type": "markdown",
   "id": "a61eee31",
   "metadata": {},
   "source": [
    "**Insights**\n",
    "\n",
    "- Claims were collected from 1994 to 1996, most of them were registered on 1994 with 40% of claims followed by 1995 with 34% and 1996 with 26%."
   ]
  },
  {
   "cell_type": "markdown",
   "id": "e83c8104",
   "metadata": {},
   "source": [
    "---"
   ]
  },
  {
   "cell_type": "markdown",
   "id": "735e653f",
   "metadata": {},
   "source": [
    "## 2.2. Categorical Columns"
   ]
  },
  {
   "cell_type": "code",
   "execution_count": 23,
   "id": "d586594b",
   "metadata": {},
   "outputs": [
    {
     "name": "stdout",
     "output_type": "stream",
     "text": [
      "There are 27 categorical features:\n",
      "\t ['Month', 'WeekOfMonth', 'DayOfWeek', 'Make', 'AccidentArea', 'DayOfWeekClaimed', 'MonthClaimed', 'WeekOfMonthClaimed', 'Sex', 'MaritalStatus', 'Fault', 'PolicyType', 'VehicleCategory', 'VehiclePrice', 'RepNumber', 'Days_Policy_Accident', 'Days_Policy_Claim', 'PastNumberOfClaims', 'AgeOfVehicle', 'AgeOfPolicyHolder', 'PoliceReportFiled', 'WitnessPresent', 'AgentType', 'NumberOfSuppliments', 'AddressChange_Claim', 'NumberOfCars', 'BasePolicy']\n"
     ]
    }
   ],
   "source": [
    "categorical_features = df.select_dtypes(include='object').columns.tolist()\n",
    "print(f\"There are {len(categorical_features)} categorical features:\\n\\t {categorical_features}\")"
   ]
  },
  {
   "cell_type": "markdown",
   "id": "568fa74d",
   "metadata": {},
   "source": [
    "### Month"
   ]
  },
  {
   "cell_type": "code",
   "execution_count": 25,
   "id": "14864230",
   "metadata": {},
   "outputs": [
    {
     "data": {
      "text/html": [
       "<div>\n",
       "<style scoped>\n",
       "    .dataframe tbody tr th:only-of-type {\n",
       "        vertical-align: middle;\n",
       "    }\n",
       "\n",
       "    .dataframe tbody tr th {\n",
       "        vertical-align: top;\n",
       "    }\n",
       "\n",
       "    .dataframe thead th {\n",
       "        text-align: right;\n",
       "    }\n",
       "</style>\n",
       "<table border=\"1\" class=\"dataframe\">\n",
       "  <thead>\n",
       "    <tr style=\"text-align: right;\">\n",
       "      <th></th>\n",
       "      <th>counts</th>\n",
       "      <th>proportions</th>\n",
       "      <th>percentage</th>\n",
       "    </tr>\n",
       "    <tr>\n",
       "      <th>Month</th>\n",
       "      <th></th>\n",
       "      <th></th>\n",
       "      <th></th>\n",
       "    </tr>\n",
       "  </thead>\n",
       "  <tbody>\n",
       "    <tr>\n",
       "      <th>Aug</th>\n",
       "      <td>1127</td>\n",
       "      <td>0.073</td>\n",
       "      <td>7.309</td>\n",
       "    </tr>\n",
       "    <tr>\n",
       "      <th>Nov</th>\n",
       "      <td>1201</td>\n",
       "      <td>0.078</td>\n",
       "      <td>7.789</td>\n",
       "    </tr>\n",
       "    <tr>\n",
       "      <th>Sep</th>\n",
       "      <td>1240</td>\n",
       "      <td>0.080</td>\n",
       "      <td>8.042</td>\n",
       "    </tr>\n",
       "    <tr>\n",
       "      <th>Jul</th>\n",
       "      <td>1257</td>\n",
       "      <td>0.082</td>\n",
       "      <td>8.152</td>\n",
       "    </tr>\n",
       "    <tr>\n",
       "      <th>Feb</th>\n",
       "      <td>1266</td>\n",
       "      <td>0.082</td>\n",
       "      <td>8.210</td>\n",
       "    </tr>\n",
       "    <tr>\n",
       "      <th>Apr</th>\n",
       "      <td>1280</td>\n",
       "      <td>0.083</td>\n",
       "      <td>8.301</td>\n",
       "    </tr>\n",
       "    <tr>\n",
       "      <th>Dec</th>\n",
       "      <td>1285</td>\n",
       "      <td>0.083</td>\n",
       "      <td>8.333</td>\n",
       "    </tr>\n",
       "    <tr>\n",
       "      <th>Oct</th>\n",
       "      <td>1305</td>\n",
       "      <td>0.085</td>\n",
       "      <td>8.463</td>\n",
       "    </tr>\n",
       "    <tr>\n",
       "      <th>Jun</th>\n",
       "      <td>1321</td>\n",
       "      <td>0.086</td>\n",
       "      <td>8.567</td>\n",
       "    </tr>\n",
       "    <tr>\n",
       "      <th>Mar</th>\n",
       "      <td>1360</td>\n",
       "      <td>0.088</td>\n",
       "      <td>8.820</td>\n",
       "    </tr>\n",
       "    <tr>\n",
       "      <th>May</th>\n",
       "      <td>1367</td>\n",
       "      <td>0.089</td>\n",
       "      <td>8.865</td>\n",
       "    </tr>\n",
       "    <tr>\n",
       "      <th>Jan</th>\n",
       "      <td>1411</td>\n",
       "      <td>0.092</td>\n",
       "      <td>9.150</td>\n",
       "    </tr>\n",
       "  </tbody>\n",
       "</table>\n",
       "</div>"
      ],
      "text/plain": [
       "       counts  proportions  percentage\n",
       "Month                                 \n",
       "Aug      1127        0.073       7.309\n",
       "Nov      1201        0.078       7.789\n",
       "Sep      1240        0.080       8.042\n",
       "Jul      1257        0.082       8.152\n",
       "Feb      1266        0.082       8.210\n",
       "Apr      1280        0.083       8.301\n",
       "Dec      1285        0.083       8.333\n",
       "Oct      1305        0.085       8.463\n",
       "Jun      1321        0.086       8.567\n",
       "Mar      1360        0.088       8.820\n",
       "May      1367        0.089       8.865\n",
       "Jan      1411        0.092       9.150"
      ]
     },
     "execution_count": 25,
     "metadata": {},
     "output_type": "execute_result"
    }
   ],
   "source": [
    "# Frecuency Table\n",
    "utils.show_value_counts(X_df, 'Month', sort_index=False)"
   ]
  },
  {
   "cell_type": "code",
   "execution_count": 26,
   "id": "d9ee95cf",
   "metadata": {},
   "outputs": [
    {
     "data": {
      "text/plain": [
       "Text(0.5, 1.0, 'Bar Plot for Month')"
      ]
     },
     "execution_count": 26,
     "metadata": {},
     "output_type": "execute_result"
    },
    {
     "data": {
      "image/png": "[encoded data removed]",
      "text/plain": [
       "<Figure size 640x480 with 1 Axes>"
      ]
     },
     "metadata": {},
     "output_type": "display_data"
    }
   ],
   "source": [
    "sns.countplot(data=X_df, x='Month', order=['Jan', 'Feb', 'Mar', 'Apr', 'May', 'Jun', 'Jul', 'Aug', 'Sep', 'Oct', 'Nov', 'Dec'])\n",
    "plt.title(\"Bar Plot for Month\")"
   ]
  },
  {
   "cell_type": "markdown",
   "id": "12605ebe",
   "metadata": {},
   "source": [
    "**Insights**\n",
    "\n",
    "- There are not big differences in number of accidents that were claimed over months.\n",
    "- Maximum number of accidents that were claimed accurred in January with a 9.1% of data, follewed by May and March with 8.9% and 8.2%, respectible. The minimun number of accidents occured were in August with a 7.3% of the records.\n",
    "- The difference between the months with maximum and minimun counts is approximately 300 accidents (from 15000)."
   ]
  },
  {
   "cell_type": "markdown",
   "id": "5cddaf70",
   "metadata": {},
   "source": [
    "### WeekOfMonth \n",
    "\n",
    "Semana del mes en que ocurrió el accidente."
   ]
  },
  {
   "cell_type": "code",
   "execution_count": 30,
   "id": "c34c42b8",
   "metadata": {},
   "outputs": [
    {
     "data": {
      "text/html": [
       "<div>\n",
       "<style scoped>\n",
       "    .dataframe tbody tr th:only-of-type {\n",
       "        vertical-align: middle;\n",
       "    }\n",
       "\n",
       "    .dataframe tbody tr th {\n",
       "        vertical-align: top;\n",
       "    }\n",
       "\n",
       "    .dataframe thead th {\n",
       "        text-align: right;\n",
       "    }\n",
       "</style>\n",
       "<table border=\"1\" class=\"dataframe\">\n",
       "  <thead>\n",
       "    <tr style=\"text-align: right;\">\n",
       "      <th></th>\n",
       "      <th>counts</th>\n",
       "      <th>proportions</th>\n",
       "      <th>percentage</th>\n",
       "    </tr>\n",
       "    <tr>\n",
       "      <th>WeekOfMonth</th>\n",
       "      <th></th>\n",
       "      <th></th>\n",
       "      <th></th>\n",
       "    </tr>\n",
       "  </thead>\n",
       "  <tbody>\n",
       "    <tr>\n",
       "      <th>5</th>\n",
       "      <td>1637</td>\n",
       "      <td>0.106</td>\n",
       "      <td>10.616</td>\n",
       "    </tr>\n",
       "    <tr>\n",
       "      <th>1</th>\n",
       "      <td>3187</td>\n",
       "      <td>0.207</td>\n",
       "      <td>20.668</td>\n",
       "    </tr>\n",
       "    <tr>\n",
       "      <th>4</th>\n",
       "      <td>3398</td>\n",
       "      <td>0.220</td>\n",
       "      <td>22.036</td>\n",
       "    </tr>\n",
       "    <tr>\n",
       "      <th>2</th>\n",
       "      <td>3558</td>\n",
       "      <td>0.231</td>\n",
       "      <td>23.074</td>\n",
       "    </tr>\n",
       "    <tr>\n",
       "      <th>3</th>\n",
       "      <td>3640</td>\n",
       "      <td>0.236</td>\n",
       "      <td>23.606</td>\n",
       "    </tr>\n",
       "  </tbody>\n",
       "</table>\n",
       "</div>"
      ],
      "text/plain": [
       "             counts  proportions  percentage\n",
       "WeekOfMonth                                 \n",
       "5              1637        0.106      10.616\n",
       "1              3187        0.207      20.668\n",
       "4              3398        0.220      22.036\n",
       "2              3558        0.231      23.074\n",
       "3              3640        0.236      23.606"
      ]
     },
     "execution_count": 30,
     "metadata": {},
     "output_type": "execute_result"
    }
   ],
   "source": [
    "# Frecuency Table\n",
    "utils.show_value_counts(X_df, 'WeekOfMonth', sort_index=False)"
   ]
  },
  {
   "cell_type": "code",
   "execution_count": 29,
   "id": "aea895eb",
   "metadata": {},
   "outputs": [
    {
     "data": {
      "text/plain": [
       "Text(0.5, 1.0, 'Bar Plot for WeekOfMonth')"
      ]
     },
     "execution_count": 29,
     "metadata": {},
     "output_type": "execute_result"
    },
    {
     "data": {
      "image/png": "[encoded data removed]",
      "text/plain": [
       "<Figure size 640x480 with 1 Axes>"
      ]
     },
     "metadata": {},
     "output_type": "display_data"
    }
   ],
   "source": [
    "sns.countplot(data=X_df, x='WeekOfMonth')\n",
    "plt.title(\"Bar Plot for WeekOfMonth\")"
   ]
  },
  {
   "cell_type": "markdown",
   "id": "995e5c49",
   "metadata": {},
   "source": [
    "**Insights**\n",
    "\n",
    "- The maximum number of accidents that were claimed goes for the 3rd week of the month followed by the 2nd week of the month with 23.6% and 23.1% of total claims, indicating that almost 50% of the accidents were made in the middle of the months.\n",
    "\n",
    "- The minimum number of accidents that were claimed goes for the 5th week of the month with a 10.6% of total claims. Since not all months have 5 weeks (not counting all days but counting when ends a week) it is expected to have less accidents (and therefore less claims) in this week."
   ]
  },
  {
   "cell_type": "markdown",
   "id": "5452260b",
   "metadata": {},
   "source": [
    "### DayOfWeek\n",
    "\n",
    "Día de la semana en que ocurrió el accidente."
   ]
  },
  {
   "cell_type": "code",
   "execution_count": 36,
   "id": "f2ee8956",
   "metadata": {},
   "outputs": [
    {
     "data": {
      "text/html": [
       "<div>\n",
       "<style scoped>\n",
       "    .dataframe tbody tr th:only-of-type {\n",
       "        vertical-align: middle;\n",
       "    }\n",
       "\n",
       "    .dataframe tbody tr th {\n",
       "        vertical-align: top;\n",
       "    }\n",
       "\n",
       "    .dataframe thead th {\n",
       "        text-align: right;\n",
       "    }\n",
       "</style>\n",
       "<table border=\"1\" class=\"dataframe\">\n",
       "  <thead>\n",
       "    <tr style=\"text-align: right;\">\n",
       "      <th></th>\n",
       "      <th>counts</th>\n",
       "      <th>proportions</th>\n",
       "      <th>percentage</th>\n",
       "    </tr>\n",
       "    <tr>\n",
       "      <th>DayOfWeek</th>\n",
       "      <th></th>\n",
       "      <th></th>\n",
       "      <th></th>\n",
       "    </tr>\n",
       "  </thead>\n",
       "  <tbody>\n",
       "    <tr>\n",
       "      <th>Sunday</th>\n",
       "      <td>1745</td>\n",
       "      <td>0.113</td>\n",
       "      <td>11.316</td>\n",
       "    </tr>\n",
       "    <tr>\n",
       "      <th>Saturday</th>\n",
       "      <td>1982</td>\n",
       "      <td>0.129</td>\n",
       "      <td>12.853</td>\n",
       "    </tr>\n",
       "    <tr>\n",
       "      <th>Wednesday</th>\n",
       "      <td>2159</td>\n",
       "      <td>0.140</td>\n",
       "      <td>14.001</td>\n",
       "    </tr>\n",
       "    <tr>\n",
       "      <th>Thursday</th>\n",
       "      <td>2173</td>\n",
       "      <td>0.141</td>\n",
       "      <td>14.092</td>\n",
       "    </tr>\n",
       "    <tr>\n",
       "      <th>Tuesday</th>\n",
       "      <td>2300</td>\n",
       "      <td>0.149</td>\n",
       "      <td>14.916</td>\n",
       "    </tr>\n",
       "    <tr>\n",
       "      <th>Friday</th>\n",
       "      <td>2445</td>\n",
       "      <td>0.159</td>\n",
       "      <td>15.856</td>\n",
       "    </tr>\n",
       "    <tr>\n",
       "      <th>Monday</th>\n",
       "      <td>2616</td>\n",
       "      <td>0.170</td>\n",
       "      <td>16.965</td>\n",
       "    </tr>\n",
       "  </tbody>\n",
       "</table>\n",
       "</div>"
      ],
      "text/plain": [
       "           counts  proportions  percentage\n",
       "DayOfWeek                                 \n",
       "Sunday       1745        0.113      11.316\n",
       "Saturday     1982        0.129      12.853\n",
       "Wednesday    2159        0.140      14.001\n",
       "Thursday     2173        0.141      14.092\n",
       "Tuesday      2300        0.149      14.916\n",
       "Friday       2445        0.159      15.856\n",
       "Monday       2616        0.170      16.965"
      ]
     },
     "execution_count": 36,
     "metadata": {},
     "output_type": "execute_result"
    }
   ],
   "source": [
    "# Frecuency Table\n",
    "utils.show_value_counts(X_df, 'DayOfWeek', sort_index=False)"
   ]
  },
  {
   "cell_type": "code",
   "execution_count": 59,
   "id": "880422e2",
   "metadata": {},
   "outputs": [
    {
     "data": {
      "text/plain": [
       "Text(0.5, 1.0, 'Bar Plot for DayOfWeek')"
      ]
     },
     "execution_count": 59,
     "metadata": {},
     "output_type": "execute_result"
    },
    {
     "data": {
      "image/png": "[encoded data removed]",
      "text/plain": [
       "<Figure size 640x480 with 1 Axes>"
      ]
     },
     "metadata": {},
     "output_type": "display_data"
    }
   ],
   "source": [
    "sns.countplot(data=X_df, x='DayOfWeek', order=['Monday', 'Tuesday', 'Wednesday', 'Thursday', 'Friday', 'Saturday', 'Sunday'])\n",
    "plt.title(\"Bar Plot for DayOfWeek\")"
   ]
  },
  {
   "cell_type": "markdown",
   "id": "1f7f2bf1",
   "metadata": {},
   "source": [
    "**Insights**\n",
    "\n",
    "- The maximum number of accidents that were claimed happened on Monday and Friday with 17% and 16% of total claims, respectively.\n",
    "- Sunday and Saturday had the least numbr of accidents that were claimed with a 11% and 13% of total records, respectively."
   ]
  },
  {
   "cell_type": "markdown",
   "id": "b36f625f",
   "metadata": {},
   "source": [
    "### Make\n",
    "\n",
    "Marca del vehículo."
   ]
  },
  {
   "cell_type": "code",
   "execution_count": 53,
   "id": "77847376",
   "metadata": {},
   "outputs": [
    {
     "data": {
      "text/html": [
       "<div>\n",
       "<style scoped>\n",
       "    .dataframe tbody tr th:only-of-type {\n",
       "        vertical-align: middle;\n",
       "    }\n",
       "\n",
       "    .dataframe tbody tr th {\n",
       "        vertical-align: top;\n",
       "    }\n",
       "\n",
       "    .dataframe thead th {\n",
       "        text-align: right;\n",
       "    }\n",
       "</style>\n",
       "<table border=\"1\" class=\"dataframe\">\n",
       "  <thead>\n",
       "    <tr style=\"text-align: right;\">\n",
       "      <th></th>\n",
       "      <th>counts</th>\n",
       "      <th>proportions</th>\n",
       "      <th>percentage</th>\n",
       "    </tr>\n",
       "    <tr>\n",
       "      <th>Make</th>\n",
       "      <th></th>\n",
       "      <th></th>\n",
       "      <th></th>\n",
       "    </tr>\n",
       "  </thead>\n",
       "  <tbody>\n",
       "    <tr>\n",
       "      <th>Pontiac</th>\n",
       "      <td>3837</td>\n",
       "      <td>0.249</td>\n",
       "      <td>24.883</td>\n",
       "    </tr>\n",
       "    <tr>\n",
       "      <th>Toyota</th>\n",
       "      <td>3121</td>\n",
       "      <td>0.202</td>\n",
       "      <td>20.240</td>\n",
       "    </tr>\n",
       "    <tr>\n",
       "      <th>Honda</th>\n",
       "      <td>2801</td>\n",
       "      <td>0.182</td>\n",
       "      <td>18.165</td>\n",
       "    </tr>\n",
       "    <tr>\n",
       "      <th>Mazda</th>\n",
       "      <td>2354</td>\n",
       "      <td>0.153</td>\n",
       "      <td>15.266</td>\n",
       "    </tr>\n",
       "    <tr>\n",
       "      <th>Chevrolet</th>\n",
       "      <td>1681</td>\n",
       "      <td>0.109</td>\n",
       "      <td>10.901</td>\n",
       "    </tr>\n",
       "    <tr>\n",
       "      <th>Accura</th>\n",
       "      <td>472</td>\n",
       "      <td>0.031</td>\n",
       "      <td>3.061</td>\n",
       "    </tr>\n",
       "    <tr>\n",
       "      <th>Ford</th>\n",
       "      <td>450</td>\n",
       "      <td>0.029</td>\n",
       "      <td>2.918</td>\n",
       "    </tr>\n",
       "    <tr>\n",
       "      <th>VW</th>\n",
       "      <td>283</td>\n",
       "      <td>0.018</td>\n",
       "      <td>1.835</td>\n",
       "    </tr>\n",
       "    <tr>\n",
       "      <th>Dodge</th>\n",
       "      <td>109</td>\n",
       "      <td>0.007</td>\n",
       "      <td>0.707</td>\n",
       "    </tr>\n",
       "    <tr>\n",
       "      <th>Saab</th>\n",
       "      <td>108</td>\n",
       "      <td>0.007</td>\n",
       "      <td>0.700</td>\n",
       "    </tr>\n",
       "    <tr>\n",
       "      <th>Mercury</th>\n",
       "      <td>83</td>\n",
       "      <td>0.005</td>\n",
       "      <td>0.538</td>\n",
       "    </tr>\n",
       "    <tr>\n",
       "      <th>Saturn</th>\n",
       "      <td>58</td>\n",
       "      <td>0.004</td>\n",
       "      <td>0.376</td>\n",
       "    </tr>\n",
       "    <tr>\n",
       "      <th>Nisson</th>\n",
       "      <td>30</td>\n",
       "      <td>0.002</td>\n",
       "      <td>0.195</td>\n",
       "    </tr>\n",
       "    <tr>\n",
       "      <th>BMW</th>\n",
       "      <td>15</td>\n",
       "      <td>0.001</td>\n",
       "      <td>0.097</td>\n",
       "    </tr>\n",
       "    <tr>\n",
       "      <th>Jaguar</th>\n",
       "      <td>6</td>\n",
       "      <td>0.000</td>\n",
       "      <td>0.039</td>\n",
       "    </tr>\n",
       "    <tr>\n",
       "      <th>Porche</th>\n",
       "      <td>5</td>\n",
       "      <td>0.000</td>\n",
       "      <td>0.032</td>\n",
       "    </tr>\n",
       "    <tr>\n",
       "      <th>Mecedes</th>\n",
       "      <td>4</td>\n",
       "      <td>0.000</td>\n",
       "      <td>0.026</td>\n",
       "    </tr>\n",
       "    <tr>\n",
       "      <th>Ferrari</th>\n",
       "      <td>2</td>\n",
       "      <td>0.000</td>\n",
       "      <td>0.013</td>\n",
       "    </tr>\n",
       "    <tr>\n",
       "      <th>Lexus</th>\n",
       "      <td>1</td>\n",
       "      <td>0.000</td>\n",
       "      <td>0.006</td>\n",
       "    </tr>\n",
       "  </tbody>\n",
       "</table>\n",
       "</div>"
      ],
      "text/plain": [
       "           counts  proportions  percentage\n",
       "Make                                      \n",
       "Pontiac      3837        0.249      24.883\n",
       "Toyota       3121        0.202      20.240\n",
       "Honda        2801        0.182      18.165\n",
       "Mazda        2354        0.153      15.266\n",
       "Chevrolet    1681        0.109      10.901\n",
       "Accura        472        0.031       3.061\n",
       "Ford          450        0.029       2.918\n",
       "VW            283        0.018       1.835\n",
       "Dodge         109        0.007       0.707\n",
       "Saab          108        0.007       0.700\n",
       "Mercury        83        0.005       0.538\n",
       "Saturn         58        0.004       0.376\n",
       "Nisson         30        0.002       0.195\n",
       "BMW            15        0.001       0.097\n",
       "Jaguar          6        0.000       0.039\n",
       "Porche          5        0.000       0.032\n",
       "Mecedes         4        0.000       0.026\n",
       "Ferrari         2        0.000       0.013\n",
       "Lexus           1        0.000       0.006"
      ]
     },
     "execution_count": 53,
     "metadata": {},
     "output_type": "execute_result"
    }
   ],
   "source": [
    "# Frecuency Table\n",
    "make_fq_table = utils.show_value_counts(X_df, 'Make', sort_index=False, ascending=False)\n",
    "make_fq_table"
   ]
  },
  {
   "cell_type": "code",
   "execution_count": 54,
   "id": "6b8dbeab",
   "metadata": {},
   "outputs": [
    {
     "data": {
      "text/plain": [
       "Text(0.5, 1.0, 'Bar Plot for Make')"
      ]
     },
     "execution_count": 54,
     "metadata": {},
     "output_type": "execute_result"
    },
    {
     "data": {
      "image/png": "[encoded data removed]",
      "text/plain": [
       "<Figure size 640x480 with 1 Axes>"
      ]
     },
     "metadata": {},
     "output_type": "display_data"
    }
   ],
   "source": [
    "sns.countplot(data=X_df, y='Make', stat='proportion', order=make_fq_table.index)\n",
    "plt.title(\"Bar Plot for Make\")"
   ]
  },
  {
   "cell_type": "markdown",
   "id": "f73531ae",
   "metadata": {},
   "source": [
    "**Insights**\n",
    "\n",
    "- Most claims corresponds to a customer with a Pontiac car, with a 25% of total claims, followed by Toyota with 20% and Mazda with 18%.\n",
    "- Customers with Expensible cars had the least number of claims, with only one claim for a Lexus car, 2 claims for a Ferrari, and so on with Mercedes, Porche, etc. \n",
    "- It is expected to have those proportions for expensible cars, since only few people had the possibility to get one of them."
   ]
  },
  {
   "cell_type": "markdown",
   "id": "4422608c",
   "metadata": {},
   "source": [
    "### AccidentArea\n",
    "\n",
    "Zona del accidente."
   ]
  },
  {
   "cell_type": "code",
   "execution_count": 56,
   "id": "5a8d22fe",
   "metadata": {},
   "outputs": [
    {
     "data": {
      "text/html": [
       "<div>\n",
       "<style scoped>\n",
       "    .dataframe tbody tr th:only-of-type {\n",
       "        vertical-align: middle;\n",
       "    }\n",
       "\n",
       "    .dataframe tbody tr th {\n",
       "        vertical-align: top;\n",
       "    }\n",
       "\n",
       "    .dataframe thead th {\n",
       "        text-align: right;\n",
       "    }\n",
       "</style>\n",
       "<table border=\"1\" class=\"dataframe\">\n",
       "  <thead>\n",
       "    <tr style=\"text-align: right;\">\n",
       "      <th></th>\n",
       "      <th>counts</th>\n",
       "      <th>proportions</th>\n",
       "      <th>percentage</th>\n",
       "    </tr>\n",
       "    <tr>\n",
       "      <th>AccidentArea</th>\n",
       "      <th></th>\n",
       "      <th></th>\n",
       "      <th></th>\n",
       "    </tr>\n",
       "  </thead>\n",
       "  <tbody>\n",
       "    <tr>\n",
       "      <th>Urban</th>\n",
       "      <td>13822</td>\n",
       "      <td>0.896</td>\n",
       "      <td>89.637</td>\n",
       "    </tr>\n",
       "    <tr>\n",
       "      <th>Rural</th>\n",
       "      <td>1598</td>\n",
       "      <td>0.104</td>\n",
       "      <td>10.363</td>\n",
       "    </tr>\n",
       "  </tbody>\n",
       "</table>\n",
       "</div>"
      ],
      "text/plain": [
       "              counts  proportions  percentage\n",
       "AccidentArea                                 \n",
       "Urban          13822        0.896      89.637\n",
       "Rural           1598        0.104      10.363"
      ]
     },
     "execution_count": 56,
     "metadata": {},
     "output_type": "execute_result"
    }
   ],
   "source": [
    "# Frecuency Table\n",
    "make_fq_table = utils.show_value_counts(X_df, 'AccidentArea', sort_index=False, ascending=False)\n",
    "make_fq_table"
   ]
  },
  {
   "cell_type": "code",
   "execution_count": 57,
   "id": "d173f353",
   "metadata": {},
   "outputs": [
    {
     "data": {
      "text/plain": [
       "Text(0.5, 1.0, 'Bar Plot for AccidentArea')"
      ]
     },
     "execution_count": 57,
     "metadata": {},
     "output_type": "execute_result"
    },
    {
     "data": {
      "image/png": "[encoded data removed]",
      "text/plain": [
       "<Figure size 640x480 with 1 Axes>"
      ]
     },
     "metadata": {},
     "output_type": "display_data"
    }
   ],
   "source": [
    "sns.countplot(data=X_df, y='AccidentArea', stat='proportion')\n",
    "plt.title(\"Bar Plot for AccidentArea\")"
   ]
  },
  {
   "cell_type": "markdown",
   "id": "aeadc2f2",
   "metadata": {},
   "source": [
    "**Insights**\n",
    "\n",
    "- Most claims were made within the urban area with 90% of total claims, and for rural area the remaining 10% of total claims."
   ]
  },
  {
   "cell_type": "markdown",
   "id": "ffe8c427",
   "metadata": {},
   "source": [
    "### DayOfWeekClaimed\n",
    "\n",
    "Día de la semana en que se hizo la reclamación."
   ]
  },
  {
   "cell_type": "code",
   "execution_count": 63,
   "id": "38567308",
   "metadata": {},
   "outputs": [
    {
     "data": {
      "text/html": [
       "<div>\n",
       "<style scoped>\n",
       "    .dataframe tbody tr th:only-of-type {\n",
       "        vertical-align: middle;\n",
       "    }\n",
       "\n",
       "    .dataframe tbody tr th {\n",
       "        vertical-align: top;\n",
       "    }\n",
       "\n",
       "    .dataframe thead th {\n",
       "        text-align: right;\n",
       "    }\n",
       "</style>\n",
       "<table border=\"1\" class=\"dataframe\">\n",
       "  <thead>\n",
       "    <tr style=\"text-align: right;\">\n",
       "      <th></th>\n",
       "      <th>counts</th>\n",
       "      <th>proportions</th>\n",
       "      <th>percentage</th>\n",
       "    </tr>\n",
       "    <tr>\n",
       "      <th>DayOfWeekClaimed</th>\n",
       "      <th></th>\n",
       "      <th></th>\n",
       "      <th></th>\n",
       "    </tr>\n",
       "  </thead>\n",
       "  <tbody>\n",
       "    <tr>\n",
       "      <th>Monday</th>\n",
       "      <td>3757</td>\n",
       "      <td>0.244</td>\n",
       "      <td>24.364</td>\n",
       "    </tr>\n",
       "    <tr>\n",
       "      <th>Tuesday</th>\n",
       "      <td>3375</td>\n",
       "      <td>0.219</td>\n",
       "      <td>21.887</td>\n",
       "    </tr>\n",
       "    <tr>\n",
       "      <th>Wednesday</th>\n",
       "      <td>2951</td>\n",
       "      <td>0.191</td>\n",
       "      <td>19.137</td>\n",
       "    </tr>\n",
       "    <tr>\n",
       "      <th>Thursday</th>\n",
       "      <td>2660</td>\n",
       "      <td>0.173</td>\n",
       "      <td>17.250</td>\n",
       "    </tr>\n",
       "    <tr>\n",
       "      <th>Friday</th>\n",
       "      <td>2497</td>\n",
       "      <td>0.162</td>\n",
       "      <td>16.193</td>\n",
       "    </tr>\n",
       "    <tr>\n",
       "      <th>Saturday</th>\n",
       "      <td>127</td>\n",
       "      <td>0.008</td>\n",
       "      <td>0.824</td>\n",
       "    </tr>\n",
       "    <tr>\n",
       "      <th>Sunday</th>\n",
       "      <td>52</td>\n",
       "      <td>0.003</td>\n",
       "      <td>0.337</td>\n",
       "    </tr>\n",
       "    <tr>\n",
       "      <th>0</th>\n",
       "      <td>1</td>\n",
       "      <td>0.000</td>\n",
       "      <td>0.006</td>\n",
       "    </tr>\n",
       "  </tbody>\n",
       "</table>\n",
       "</div>"
      ],
      "text/plain": [
       "                  counts  proportions  percentage\n",
       "DayOfWeekClaimed                                 \n",
       "Monday              3757        0.244      24.364\n",
       "Tuesday             3375        0.219      21.887\n",
       "Wednesday           2951        0.191      19.137\n",
       "Thursday            2660        0.173      17.250\n",
       "Friday              2497        0.162      16.193\n",
       "Saturday             127        0.008       0.824\n",
       "Sunday                52        0.003       0.337\n",
       "0                      1        0.000       0.006"
      ]
     },
     "execution_count": 63,
     "metadata": {},
     "output_type": "execute_result"
    }
   ],
   "source": [
    "# Frecuency Table\n",
    "utils.show_value_counts(X_df, 'DayOfWeekClaimed', sort_index=False, ascending=False)"
   ]
  },
  {
   "cell_type": "code",
   "execution_count": 68,
   "id": "57ec8649",
   "metadata": {},
   "outputs": [
    {
     "data": {
      "text/plain": [
       "Text(0.5, 1.0, 'Bar Plot for DayOfWeekClaimed')"
      ]
     },
     "execution_count": 68,
     "metadata": {},
     "output_type": "execute_result"
    },
    {
     "data": {
      "image/png": "[encoded data removed]",
      "text/plain": [
       "<Figure size 640x480 with 1 Axes>"
      ]
     },
     "metadata": {},
     "output_type": "display_data"
    }
   ],
   "source": [
    "sns.countplot(data=X_df, x='DayOfWeekClaimed', stat='proportion', order=['Monday', 'Tuesday', 'Wednesday', 'Thursday', 'Friday', 'Saturday', 'Sunday'])\n",
    "plt.title(\"Bar Plot for DayOfWeekClaimed\")"
   ]
  },
  {
   "cell_type": "markdown",
   "id": "e7438faa",
   "metadata": {},
   "source": [
    "**Insights**\n",
    "\n",
    "- The amount of claims made to the Insurance were submitted from Monday to Sunday in decreasing amount.\n",
    "- Most claims after an accident were made on Monday (24%) followed by Tuesday (22%) and Wednesday (19%). \n",
    "- Very few claims were made on Saturday (0.8%) and Sunday (0.3%).\n",
    "- This pattern could be because accidents accurred on Saturday and Sunday, or even on Friday late, that couldn't be claimed until Weekday assuming that most headquarters were closed on Weekend (IDK). Also, people might have preferred doing other activities on Weekend rather than go to the Insurance to make a claim. \n",
    "- Finally we see another category '0' with only one record that may indicate no data was registered for that record. Since this is only one record, we can remove it from our data."
   ]
  },
  {
   "cell_type": "code",
   "execution_count": 70,
   "id": "92173f9a",
   "metadata": {},
   "outputs": [
    {
     "data": {
      "text/html": [
       "<div>\n",
       "<style scoped>\n",
       "    .dataframe tbody tr th:only-of-type {\n",
       "        vertical-align: middle;\n",
       "    }\n",
       "\n",
       "    .dataframe tbody tr th {\n",
       "        vertical-align: top;\n",
       "    }\n",
       "\n",
       "    .dataframe thead th {\n",
       "        text-align: right;\n",
       "    }\n",
       "</style>\n",
       "<table border=\"1\" class=\"dataframe\">\n",
       "  <thead>\n",
       "    <tr style=\"text-align: right;\">\n",
       "      <th></th>\n",
       "      <th>Month</th>\n",
       "      <th>WeekOfMonth</th>\n",
       "      <th>DayOfWeek</th>\n",
       "      <th>Make</th>\n",
       "      <th>AccidentArea</th>\n",
       "      <th>DayOfWeekClaimed</th>\n",
       "      <th>MonthClaimed</th>\n",
       "      <th>WeekOfMonthClaimed</th>\n",
       "      <th>Sex</th>\n",
       "      <th>MaritalStatus</th>\n",
       "      <th>...</th>\n",
       "      <th>AgeOfVehicle</th>\n",
       "      <th>AgeOfPolicyHolder</th>\n",
       "      <th>PoliceReportFiled</th>\n",
       "      <th>WitnessPresent</th>\n",
       "      <th>AgentType</th>\n",
       "      <th>NumberOfSuppliments</th>\n",
       "      <th>AddressChange_Claim</th>\n",
       "      <th>NumberOfCars</th>\n",
       "      <th>Year</th>\n",
       "      <th>BasePolicy</th>\n",
       "    </tr>\n",
       "  </thead>\n",
       "  <tbody>\n",
       "    <tr>\n",
       "      <th>1516</th>\n",
       "      <td>Jul</td>\n",
       "      <td>2</td>\n",
       "      <td>Monday</td>\n",
       "      <td>Honda</td>\n",
       "      <td>Rural</td>\n",
       "      <td>0</td>\n",
       "      <td>0</td>\n",
       "      <td>1</td>\n",
       "      <td>Male</td>\n",
       "      <td>Single</td>\n",
       "      <td>...</td>\n",
       "      <td>new</td>\n",
       "      <td>16 to 17</td>\n",
       "      <td>No</td>\n",
       "      <td>No</td>\n",
       "      <td>External</td>\n",
       "      <td>none</td>\n",
       "      <td>no change</td>\n",
       "      <td>1 vehicle</td>\n",
       "      <td>1994</td>\n",
       "      <td>All Perils</td>\n",
       "    </tr>\n",
       "  </tbody>\n",
       "</table>\n",
       "<p>1 rows × 31 columns</p>\n",
       "</div>"
      ],
      "text/plain": [
       "     Month WeekOfMonth DayOfWeek   Make AccidentArea DayOfWeekClaimed  \\\n",
       "1516   Jul           2    Monday  Honda        Rural                0   \n",
       "\n",
       "     MonthClaimed WeekOfMonthClaimed   Sex MaritalStatus  ...  AgeOfVehicle  \\\n",
       "1516            0                  1  Male        Single  ...           new   \n",
       "\n",
       "     AgeOfPolicyHolder PoliceReportFiled WitnessPresent AgentType  \\\n",
       "1516          16 to 17                No             No  External   \n",
       "\n",
       "     NumberOfSuppliments  AddressChange_Claim  NumberOfCars  Year  BasePolicy  \n",
       "1516                none            no change     1 vehicle  1994  All Perils  \n",
       "\n",
       "[1 rows x 31 columns]"
      ]
     },
     "execution_count": 70,
     "metadata": {},
     "output_type": "execute_result"
    }
   ],
   "source": [
    "X_df[X_df.DayOfWeekClaimed=='0']"
   ]
  },
  {
   "cell_type": "code",
   "execution_count": null,
   "id": "027b8b75",
   "metadata": {},
   "outputs": [],
   "source": []
  },
  {
   "cell_type": "code",
   "execution_count": null,
   "id": "1cee2513",
   "metadata": {},
   "outputs": [],
   "source": []
  },
  {
   "cell_type": "code",
   "execution_count": null,
   "id": "8d8e8bba",
   "metadata": {},
   "outputs": [],
   "source": []
  },
  {
   "cell_type": "code",
   "execution_count": null,
   "id": "83883ec5",
   "metadata": {},
   "outputs": [],
   "source": []
  },
  {
   "cell_type": "code",
   "execution_count": null,
   "id": "ad81ba9e",
   "metadata": {},
   "outputs": [],
   "source": []
  },
  {
   "cell_type": "code",
   "execution_count": 18,
   "id": "959d8973",
   "metadata": {},
   "outputs": [
    {
     "name": "stdout",
     "output_type": "stream",
     "text": [
      "Month:\n",
      "\t['Dec' 'Jan' 'Oct' 'Jun' 'Feb' 'Nov' 'Apr' 'Mar' 'Aug' 'Jul' 'May' 'Sep']\n",
      "DayOfWeek:\n",
      "\t['Wednesday' 'Friday' 'Saturday' 'Monday' 'Tuesday' 'Sunday' 'Thursday']\n",
      "Make:\n",
      "\t['Honda' 'Toyota' 'Ford' 'Mazda' 'Chevrolet' 'Pontiac' 'Accura' 'Dodge'\n",
      " 'Mercury' 'Jaguar' 'Nisson' 'VW' 'Saab' 'Saturn' 'Porche' 'BMW' 'Mecedes'\n",
      " 'Ferrari' 'Lexus']\n",
      "AccidentArea:\n",
      "\t['Urban' 'Rural']\n",
      "DayOfWeekClaimed:\n",
      "\t['Tuesday' 'Monday' 'Thursday' 'Friday' 'Wednesday' 'Saturday' 'Sunday'\n",
      " '0']\n",
      "MonthClaimed:\n",
      "\t['Jan' 'Nov' 'Jul' 'Feb' 'Mar' 'Dec' 'Apr' 'Aug' 'May' 'Jun' 'Sep' 'Oct'\n",
      " '0']\n",
      "Sex:\n",
      "\t['Female' 'Male']\n",
      "MaritalStatus:\n",
      "\t['Single' 'Married' 'Widow' 'Divorced']\n",
      "Fault:\n",
      "\t['Policy Holder' 'Third Party']\n",
      "PolicyType:\n",
      "\t['Sport - Liability' 'Sport - Collision' 'Sedan - Liability'\n",
      " 'Utility - All Perils' 'Sedan - All Perils' 'Sedan - Collision'\n",
      " 'Utility - Collision' 'Utility - Liability' 'Sport - All Perils']\n",
      "VehicleCategory:\n",
      "\t['Sport' 'Utility' 'Sedan']\n",
      "VehiclePrice:\n",
      "\t['more than 69000' '20000 to 29000' '30000 to 39000' 'less than 20000'\n",
      " '40000 to 59000' '60000 to 69000']\n",
      "Days_Policy_Accident:\n",
      "\t['more than 30' '15 to 30' 'none' '1 to 7' '8 to 15']\n",
      "Days_Policy_Claim:\n",
      "\t['more than 30' '15 to 30' '8 to 15' 'none']\n",
      "PastNumberOfClaims:\n",
      "\t['none' '1' '2 to 4' 'more than 4']\n",
      "AgeOfVehicle:\n",
      "\t['3 years' '6 years' '7 years' 'more than 7' '5 years' 'new' '4 years'\n",
      " '2 years']\n",
      "AgeOfPolicyHolder:\n",
      "\t['26 to 30' '31 to 35' '41 to 50' '51 to 65' '21 to 25' '36 to 40'\n",
      " '16 to 17' 'over 65' '18 to 20']\n",
      "PoliceReportFiled:\n",
      "\t['No' 'Yes']\n",
      "WitnessPresent:\n",
      "\t['No' 'Yes']\n",
      "AgentType:\n",
      "\t['External' 'Internal']\n",
      "NumberOfSuppliments:\n",
      "\t['none' 'more than 5' '3 to 5' '1 to 2']\n",
      "AddressChange_Claim:\n",
      "\t['1 year' 'no change' '4 to 8 years' '2 to 3 years' 'under 6 months']\n",
      "NumberOfCars:\n",
      "\t['3 to 4' '1 vehicle' '2 vehicles' '5 to 8' 'more than 8']\n",
      "BasePolicy:\n",
      "\t['Liability' 'Collision' 'All Perils']\n"
     ]
    }
   ],
   "source": [
    "for col in categorical_columns:\n",
    "    print(f\"{col}:\\n\\t{df[col].unique()}\")"
   ]
  },
  {
   "cell_type": "markdown",
   "id": "655ae836",
   "metadata": {},
   "source": [
    "Variables que tienen 'none':"
   ]
  },
  {
   "cell_type": "markdown",
   "id": "214bde6c",
   "metadata": {},
   "source": [
    "## Referencias\n",
    "\n",
    "https://www.interseguro.pe/blog/deducible-en-los-seguros"
   ]
  }
 ],
 "metadata": {
  "kernelspec": {
   "display_name": "venv",
   "language": "python",
   "name": "python3"
  },
  "language_info": {
   "codemirror_mode": {
    "name": "ipython",
    "version": 3
   },
   "file_extension": ".py",
   "mimetype": "text/x-python",
   "name": "python",
   "nbconvert_exporter": "python",
   "pygments_lexer": "ipython3",
   "version": "3.11.3"
  }
 },
 "nbformat": 4,
 "nbformat_minor": 5
}
